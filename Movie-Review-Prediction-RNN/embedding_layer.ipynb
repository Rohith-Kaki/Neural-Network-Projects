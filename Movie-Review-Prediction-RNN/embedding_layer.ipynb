{
 "cells": [
  {
   "cell_type": "code",
   "execution_count": 30,
   "id": "430d6718",
   "metadata": {},
   "outputs": [],
   "source": [
    "from tensorflow.keras.preprocessing.text import one_hot"
   ]
  },
  {
   "cell_type": "code",
   "execution_count": 31,
   "id": "d8cb7677",
   "metadata": {},
   "outputs": [
    {
     "data": {
      "text/plain": [
       "['A glass of milk.',\n",
       " 'A glass of juice',\n",
       " 'A class room of good boys',\n",
       " 'A school of good infrastructute',\n",
       " 'Playlist of best videos']"
      ]
     },
     "execution_count": 31,
     "metadata": {},
     "output_type": "execute_result"
    }
   ],
   "source": [
    "sentences = [\n",
    "    \"A glass of milk.\",\n",
    "    \"A glass of juice\",\n",
    "    \"A class room of good boys\",\n",
    "    \"A school of good infrastructute\",\n",
    "    \"Playlist of best videos\"\n",
    "]\n",
    "sentences"
   ]
  },
  {
   "cell_type": "code",
   "execution_count": 32,
   "id": "c06998e3",
   "metadata": {},
   "outputs": [],
   "source": [
    "vocab_size = 10000"
   ]
  },
  {
   "cell_type": "code",
   "execution_count": 33,
   "id": "fc3f74f7",
   "metadata": {},
   "outputs": [],
   "source": [
    "one_hot_encoded = [one_hot(words, vocab_size) for words in sentences]"
   ]
  },
  {
   "cell_type": "code",
   "execution_count": 34,
   "id": "97e14d92",
   "metadata": {},
   "outputs": [
    {
     "data": {
      "text/plain": [
       "[[6104, 6509, 9009, 717],\n",
       " [6104, 6509, 9009, 7969],\n",
       " [6104, 565, 517, 9009, 1112, 5760],\n",
       " [6104, 3604, 9009, 1112, 3776],\n",
       " [2294, 9009, 5761, 1723]]"
      ]
     },
     "execution_count": 34,
     "metadata": {},
     "output_type": "execute_result"
    }
   ],
   "source": [
    "one_hot_encoded\n",
    "# in a 10,000 size array at 6104 index its \"1\" remaining all indices are \"0\" for word \"A\" in sentence \"A glass of milk\" \n",
    "# same of all other workds in the sentence"
   ]
  },
  {
   "cell_type": "code",
   "execution_count": 40,
   "id": "57fc2420",
   "metadata": {},
   "outputs": [],
   "source": [
    "from tensorflow.keras.utils import pad_sequences\n",
    "from tensorflow.keras.layers import Embedding, Input\n",
    "from tensorflow.keras.models import Sequential\n",
    "import numpy as np"
   ]
  },
  {
   "cell_type": "code",
   "execution_count": 36,
   "id": "739fa438",
   "metadata": {},
   "outputs": [],
   "source": [
    "#when u need to train an rnn the length of all sentences should be of equal length so that we can run the RNN for fixed number of timestamps.\n",
    "#our above sentences are of different lenght so we fix a maximum lenght\n",
    "max_len_sentence = 8\n",
    "encoded_sentences = pad_sequences(one_hot_encoded,padding = \"pre\", maxlen = max_len_sentence)"
   ]
  },
  {
   "cell_type": "code",
   "execution_count": 37,
   "id": "363f67f9",
   "metadata": {},
   "outputs": [
    {
     "data": {
      "text/plain": [
       "array([[   0,    0,    0,    0, 6104, 6509, 9009,  717],\n",
       "       [   0,    0,    0,    0, 6104, 6509, 9009, 7969],\n",
       "       [   0,    0, 6104,  565,  517, 9009, 1112, 5760],\n",
       "       [   0,    0,    0, 6104, 3604, 9009, 1112, 3776],\n",
       "       [   0,    0,    0,    0, 2294, 9009, 5761, 1723]])"
      ]
     },
     "execution_count": 37,
     "metadata": {},
     "output_type": "execute_result"
    }
   ],
   "source": [
    "encoded_sentences"
   ]
  },
  {
   "cell_type": "code",
   "execution_count": 43,
   "metadata": {},
   "outputs": [],
   "source": [
    "#feature representation\n",
    "n_dim = 10 #In the notes we took an example of 300 dimensions here we take 10 dimension.\n",
    "vocab_size = 10000\n",
    "max_len_sentence = 8\n",
    "model = Sequential()\n",
    "model.add(Input(shape=(max_len_sentence,)))\n",
    "model.add(Embedding(vocab_size, n_dim))\n",
    "model.compile('adam', 'mse')"
   ]
  },
  {
   "cell_type": "code",
   "execution_count": 44,
   "id": "b7392c79",
   "metadata": {},
   "outputs": [
    {
     "data": {
      "text/html": [
       "<pre style=\"white-space:pre;overflow-x:auto;line-height:normal;font-family:Menlo,'DejaVu Sans Mono',consolas,'Courier New',monospace\"><span style=\"font-weight: bold\">Model: \"sequential_9\"</span>\n",
       "</pre>\n"
      ],
      "text/plain": [
       "\u001b[1mModel: \"sequential_9\"\u001b[0m\n"
      ]
     },
     "metadata": {},
     "output_type": "display_data"
    },
    {
     "data": {
      "text/html": [
       "<pre style=\"white-space:pre;overflow-x:auto;line-height:normal;font-family:Menlo,'DejaVu Sans Mono',consolas,'Courier New',monospace\">┏━━━━━━━━━━━━━━━━━━━━━━━━━━━━━━━━━┳━━━━━━━━━━━━━━━━━━━━━━━━┳━━━━━━━━━━━━━━━┓\n",
       "┃<span style=\"font-weight: bold\"> Layer (type)                    </span>┃<span style=\"font-weight: bold\"> Output Shape           </span>┃<span style=\"font-weight: bold\">       Param # </span>┃\n",
       "┡━━━━━━━━━━━━━━━━━━━━━━━━━━━━━━━━━╇━━━━━━━━━━━━━━━━━━━━━━━━╇━━━━━━━━━━━━━━━┩\n",
       "│ embedding_7 (<span style=\"color: #0087ff; text-decoration-color: #0087ff\">Embedding</span>)         │ (<span style=\"color: #00d7ff; text-decoration-color: #00d7ff\">None</span>, <span style=\"color: #00af00; text-decoration-color: #00af00\">8</span>, <span style=\"color: #00af00; text-decoration-color: #00af00\">10</span>)          │       <span style=\"color: #00af00; text-decoration-color: #00af00\">100,000</span> │\n",
       "└─────────────────────────────────┴────────────────────────┴───────────────┘\n",
       "</pre>\n"
      ],
      "text/plain": [
       "┏━━━━━━━━━━━━━━━━━━━━━━━━━━━━━━━━━┳━━━━━━━━━━━━━━━━━━━━━━━━┳━━━━━━━━━━━━━━━┓\n",
       "┃\u001b[1m \u001b[0m\u001b[1mLayer (type)                   \u001b[0m\u001b[1m \u001b[0m┃\u001b[1m \u001b[0m\u001b[1mOutput Shape          \u001b[0m\u001b[1m \u001b[0m┃\u001b[1m \u001b[0m\u001b[1m      Param #\u001b[0m\u001b[1m \u001b[0m┃\n",
       "┡━━━━━━━━━━━━━━━━━━━━━━━━━━━━━━━━━╇━━━━━━━━━━━━━━━━━━━━━━━━╇━━━━━━━━━━━━━━━┩\n",
       "│ embedding_7 (\u001b[38;5;33mEmbedding\u001b[0m)         │ (\u001b[38;5;45mNone\u001b[0m, \u001b[38;5;34m8\u001b[0m, \u001b[38;5;34m10\u001b[0m)          │       \u001b[38;5;34m100,000\u001b[0m │\n",
       "└─────────────────────────────────┴────────────────────────┴───────────────┘\n"
      ]
     },
     "metadata": {},
     "output_type": "display_data"
    },
    {
     "data": {
      "text/html": [
       "<pre style=\"white-space:pre;overflow-x:auto;line-height:normal;font-family:Menlo,'DejaVu Sans Mono',consolas,'Courier New',monospace\"><span style=\"font-weight: bold\"> Total params: </span><span style=\"color: #00af00; text-decoration-color: #00af00\">100,000</span> (390.62 KB)\n",
       "</pre>\n"
      ],
      "text/plain": [
       "\u001b[1m Total params: \u001b[0m\u001b[38;5;34m100,000\u001b[0m (390.62 KB)\n"
      ]
     },
     "metadata": {},
     "output_type": "display_data"
    },
    {
     "data": {
      "text/html": [
       "<pre style=\"white-space:pre;overflow-x:auto;line-height:normal;font-family:Menlo,'DejaVu Sans Mono',consolas,'Courier New',monospace\"><span style=\"font-weight: bold\"> Trainable params: </span><span style=\"color: #00af00; text-decoration-color: #00af00\">100,000</span> (390.62 KB)\n",
       "</pre>\n"
      ],
      "text/plain": [
       "\u001b[1m Trainable params: \u001b[0m\u001b[38;5;34m100,000\u001b[0m (390.62 KB)\n"
      ]
     },
     "metadata": {},
     "output_type": "display_data"
    },
    {
     "data": {
      "text/html": [
       "<pre style=\"white-space:pre;overflow-x:auto;line-height:normal;font-family:Menlo,'DejaVu Sans Mono',consolas,'Courier New',monospace\"><span style=\"font-weight: bold\"> Non-trainable params: </span><span style=\"color: #00af00; text-decoration-color: #00af00\">0</span> (0.00 B)\n",
       "</pre>\n"
      ],
      "text/plain": [
       "\u001b[1m Non-trainable params: \u001b[0m\u001b[38;5;34m0\u001b[0m (0.00 B)\n"
      ]
     },
     "metadata": {},
     "output_type": "display_data"
    }
   ],
   "source": [
    "model.summary()"
   ]
  },
  {
   "cell_type": "code",
   "execution_count": 46,
   "id": "5ea5044e",
   "metadata": {},
   "outputs": [
    {
     "name": "stdout",
     "output_type": "stream",
     "text": [
      "\u001b[1m1/1\u001b[0m \u001b[32m━━━━━━━━━━━━━━━━━━━━\u001b[0m\u001b[37m\u001b[0m \u001b[1m0s\u001b[0m 33ms/step\n"
     ]
    }
   ],
   "source": [
    "res = model.predict(encoded_sentences)"
   ]
  },
  {
   "cell_type": "code",
   "execution_count": null,
   "id": "fa51ae5c",
   "metadata": {},
   "outputs": [
    {
     "data": {
      "text/plain": [
       "5"
      ]
     },
     "execution_count": 47,
     "metadata": {},
     "output_type": "execute_result"
    }
   ],
   "source": [
    "len(res)\n",
    "# [   0,    0,    0,    0, 6104, 6509, 9009,  717]\n",
    "# [       [ 0.03197627,  0.02915833, -0.04896873, -0.00730443,\n",
    "#          -0.00143678,  0.01076633,  0.03865111,  0.01835806,   -> this array is for word 1 \"0\" in sentence one \n",
    "#           0.01621774,  0.04186854],\n",
    "#         [ 0.03197627,  0.02915833, -0.04896873, -0.00730443,\n",
    "#          -0. ,  0.01076633,  0.03865111,  0.01835806,     -> this array is for word 2 \"0\" in sentence one \n",
    "#           0.01621774,  0.04186854],\n",
    "#         [ 0.03197627,  0.02915833, -0.04896873, -0.00730443,\n",
    "#          -0.00143678,  0.01076633,  0.03865111,  0.01835806,      -> this array is for word 3 \"0\" in sentence one \n",
    "#           0.01621774,  0.04186854],\n",
    "#         [ 0.03197627,  0.02915833, -0.04896873, -0.00730443,\n",
    "#          -0.00143678,  0.01076633,  0.03865111,  0.01835806,      -> this array is for word 4 \"0\" in sentence one \n",
    "#           0.01621774,  0.04186854],\n",
    "#         [ 0.00890975,  0.01715681,  0.02718591,  0.04177959,\n",
    "#           0.03241922, -0.0231065 , -0.04983828, -0.03175072,      -> this array is for word 5 \"6104\"(A) in sentence one and soo on...\n",
    "#          -0.03854436,  0.03350829],\n",
    "#         [-0.01320849,  0.01717776, -0.02674994,  0.0096768 ,\n",
    "#          -0.02066548, -0.03452754, -0.01436055, -0.04501691,\n",
    "#           0.01136136,  0.0186441 ],\n",
    "#         [-0.04394044, -0.02722924,  0.01994372,  0.00067665,\n",
    "#          -0.03454788, -0.0211977 ,  0.04633665,  0.03601295,\n",
    "#           0.02324327, -0.03939085],\n",
    "#         [ 0.02576188,  0.0039202 ,  0.02123834,  0.03438826,\n",
    "#          -0.00415701, -0.04608289, -0.01811264, -0.02949235,\n",
    "#           0.0006007 ,  0.01876012]]\n",
    "\n",
    "# There are 8 words in a sentence and each word converted into a 10-D vector hence there are 8 such vectors with 10 dimensions"
   ]
  },
  {
   "cell_type": "code",
   "execution_count": 51,
   "id": "a367a7a4",
   "metadata": {},
   "outputs": [
    {
     "data": {
      "text/plain": [
       "array([[[ 0.03197627,  0.02915833, -0.04896873, -0.00730443,\n",
       "         -0.00143678,  0.01076633,  0.03865111,  0.01835806,\n",
       "          0.01621774,  0.04186854],\n",
       "        [ 0.03197627,  0.02915833, -0.04896873, -0.00730443,\n",
       "         -0.00143678,  0.01076633,  0.03865111,  0.01835806,\n",
       "          0.01621774,  0.04186854],\n",
       "        [ 0.03197627,  0.02915833, -0.04896873, -0.00730443,\n",
       "         -0.00143678,  0.01076633,  0.03865111,  0.01835806,\n",
       "          0.01621774,  0.04186854],\n",
       "        [ 0.03197627,  0.02915833, -0.04896873, -0.00730443,\n",
       "         -0.00143678,  0.01076633,  0.03865111,  0.01835806,\n",
       "          0.01621774,  0.04186854],\n",
       "        [ 0.00890975,  0.01715681,  0.02718591,  0.04177959,\n",
       "          0.03241922, -0.0231065 , -0.04983828, -0.03175072,\n",
       "         -0.03854436,  0.03350829],\n",
       "        [-0.01320849,  0.01717776, -0.02674994,  0.0096768 ,\n",
       "         -0.02066548, -0.03452754, -0.01436055, -0.04501691,\n",
       "          0.01136136,  0.0186441 ],\n",
       "        [-0.04394044, -0.02722924,  0.01994372,  0.00067665,\n",
       "         -0.03454788, -0.0211977 ,  0.04633665,  0.03601295,\n",
       "          0.02324327, -0.03939085],\n",
       "        [ 0.02576188,  0.0039202 ,  0.02123834,  0.03438826,\n",
       "         -0.00415701, -0.04608289, -0.01811264, -0.02949235,\n",
       "          0.0006007 ,  0.01876012]],\n",
       "\n",
       "       [[ 0.03197627,  0.02915833, -0.04896873, -0.00730443,\n",
       "         -0.00143678,  0.01076633,  0.03865111,  0.01835806,\n",
       "          0.01621774,  0.04186854],\n",
       "        [ 0.03197627,  0.02915833, -0.04896873, -0.00730443,\n",
       "         -0.00143678,  0.01076633,  0.03865111,  0.01835806,\n",
       "          0.01621774,  0.04186854],\n",
       "        [ 0.03197627,  0.02915833, -0.04896873, -0.00730443,\n",
       "         -0.00143678,  0.01076633,  0.03865111,  0.01835806,\n",
       "          0.01621774,  0.04186854],\n",
       "        [ 0.03197627,  0.02915833, -0.04896873, -0.00730443,\n",
       "         -0.00143678,  0.01076633,  0.03865111,  0.01835806,\n",
       "          0.01621774,  0.04186854],\n",
       "        [ 0.00890975,  0.01715681,  0.02718591,  0.04177959,\n",
       "          0.03241922, -0.0231065 , -0.04983828, -0.03175072,\n",
       "         -0.03854436,  0.03350829],\n",
       "        [-0.01320849,  0.01717776, -0.02674994,  0.0096768 ,\n",
       "         -0.02066548, -0.03452754, -0.01436055, -0.04501691,\n",
       "          0.01136136,  0.0186441 ],\n",
       "        [-0.04394044, -0.02722924,  0.01994372,  0.00067665,\n",
       "         -0.03454788, -0.0211977 ,  0.04633665,  0.03601295,\n",
       "          0.02324327, -0.03939085],\n",
       "        [-0.04022875, -0.0402549 , -0.00585089, -0.03414738,\n",
       "          0.03506256,  0.03636196,  0.02293576, -0.02282872,\n",
       "         -0.03464101, -0.0461545 ]],\n",
       "\n",
       "       [[ 0.03197627,  0.02915833, -0.04896873, -0.00730443,\n",
       "         -0.00143678,  0.01076633,  0.03865111,  0.01835806,\n",
       "          0.01621774,  0.04186854],\n",
       "        [ 0.03197627,  0.02915833, -0.04896873, -0.00730443,\n",
       "         -0.00143678,  0.01076633,  0.03865111,  0.01835806,\n",
       "          0.01621774,  0.04186854],\n",
       "        [ 0.00890975,  0.01715681,  0.02718591,  0.04177959,\n",
       "          0.03241922, -0.0231065 , -0.04983828, -0.03175072,\n",
       "         -0.03854436,  0.03350829],\n",
       "        [-0.0462595 , -0.04120476, -0.02347302,  0.00529049,\n",
       "          0.04422211,  0.00115541, -0.02388247, -0.02797244,\n",
       "          0.02730699, -0.02965823],\n",
       "        [-0.04481154,  0.0240477 , -0.00806578, -0.03929691,\n",
       "          0.00439577,  0.02892996,  0.04713753,  0.0363257 ,\n",
       "         -0.01815742, -0.04952983],\n",
       "        [-0.04394044, -0.02722924,  0.01994372,  0.00067665,\n",
       "         -0.03454788, -0.0211977 ,  0.04633665,  0.03601295,\n",
       "          0.02324327, -0.03939085],\n",
       "        [ 0.04125809,  0.00271797, -0.01375993,  0.01929739,\n",
       "         -0.02058189, -0.02792407, -0.02027458, -0.04510783,\n",
       "         -0.01881604,  0.04777426],\n",
       "        [ 0.00689176,  0.01453531,  0.04994278,  0.00314844,\n",
       "          0.0489952 , -0.04814682, -0.01610017, -0.0290562 ,\n",
       "          0.04616577, -0.04665437]],\n",
       "\n",
       "       [[ 0.03197627,  0.02915833, -0.04896873, -0.00730443,\n",
       "         -0.00143678,  0.01076633,  0.03865111,  0.01835806,\n",
       "          0.01621774,  0.04186854],\n",
       "        [ 0.03197627,  0.02915833, -0.04896873, -0.00730443,\n",
       "         -0.00143678,  0.01076633,  0.03865111,  0.01835806,\n",
       "          0.01621774,  0.04186854],\n",
       "        [ 0.03197627,  0.02915833, -0.04896873, -0.00730443,\n",
       "         -0.00143678,  0.01076633,  0.03865111,  0.01835806,\n",
       "          0.01621774,  0.04186854],\n",
       "        [ 0.00890975,  0.01715681,  0.02718591,  0.04177959,\n",
       "          0.03241922, -0.0231065 , -0.04983828, -0.03175072,\n",
       "         -0.03854436,  0.03350829],\n",
       "        [ 0.03803532, -0.02474028, -0.04298358, -0.01971065,\n",
       "          0.01803622,  0.00215549,  0.01291934,  0.01250826,\n",
       "         -0.00199104, -0.00334857],\n",
       "        [-0.04394044, -0.02722924,  0.01994372,  0.00067665,\n",
       "         -0.03454788, -0.0211977 ,  0.04633665,  0.03601295,\n",
       "          0.02324327, -0.03939085],\n",
       "        [ 0.04125809,  0.00271797, -0.01375993,  0.01929739,\n",
       "         -0.02058189, -0.02792407, -0.02027458, -0.04510783,\n",
       "         -0.01881604,  0.04777426],\n",
       "        [-0.01009444, -0.0048715 ,  0.03429906,  0.04005077,\n",
       "          0.00624844, -0.02874445,  0.02939392,  0.01751949,\n",
       "         -0.01245308, -0.00063057]],\n",
       "\n",
       "       [[ 0.03197627,  0.02915833, -0.04896873, -0.00730443,\n",
       "         -0.00143678,  0.01076633,  0.03865111,  0.01835806,\n",
       "          0.01621774,  0.04186854],\n",
       "        [ 0.03197627,  0.02915833, -0.04896873, -0.00730443,\n",
       "         -0.00143678,  0.01076633,  0.03865111,  0.01835806,\n",
       "          0.01621774,  0.04186854],\n",
       "        [ 0.03197627,  0.02915833, -0.04896873, -0.00730443,\n",
       "         -0.00143678,  0.01076633,  0.03865111,  0.01835806,\n",
       "          0.01621774,  0.04186854],\n",
       "        [ 0.03197627,  0.02915833, -0.04896873, -0.00730443,\n",
       "         -0.00143678,  0.01076633,  0.03865111,  0.01835806,\n",
       "          0.01621774,  0.04186854],\n",
       "        [-0.02084724,  0.04446762, -0.01206647, -0.0365789 ,\n",
       "          0.01491282,  0.01401745,  0.01268642,  0.04745502,\n",
       "          0.0385622 , -0.04630021],\n",
       "        [-0.04394044, -0.02722924,  0.01994372,  0.00067665,\n",
       "         -0.03454788, -0.0211977 ,  0.04633665,  0.03601295,\n",
       "          0.02324327, -0.03939085],\n",
       "        [ 0.03788039, -0.03607782, -0.04459323,  0.02943722,\n",
       "         -0.03717732,  0.04704309,  0.02252975,  0.01720624,\n",
       "         -0.02749534, -0.0345163 ],\n",
       "        [-0.03362013, -0.01304723, -0.02963257, -0.01834784,\n",
       "         -0.04202427, -0.00250993,  0.01558967, -0.0452933 ,\n",
       "          0.00953126, -0.02645751]]], dtype=float32)"
      ]
     },
     "execution_count": 51,
     "metadata": {},
     "output_type": "execute_result"
    }
   ],
   "source": [
    "res"
   ]
  },
  {
   "cell_type": "code",
   "execution_count": null,
   "id": "5af5c9b9",
   "metadata": {},
   "outputs": [],
   "source": []
  }
 ],
 "metadata": {
  "kernelspec": {
   "display_name": "ML",
   "language": "python",
   "name": "python3"
  },
  "language_info": {
   "codemirror_mode": {
    "name": "ipython",
    "version": 3
   },
   "file_extension": ".py",
   "mimetype": "text/x-python",
   "name": "python",
   "nbconvert_exporter": "python",
   "pygments_lexer": "ipython3",
   "version": "3.11.11"
  }
 },
 "nbformat": 4,
 "nbformat_minor": 5
}
